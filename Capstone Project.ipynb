{
 "cells": [
  {
   "cell_type": "code",
   "execution_count": null,
   "metadata": {},
   "outputs": [],
   "source": [
    "'''\n",
    "2D Shallow Water Equation\n",
    "\n",
    "'''\n",
    "\n",
    "# Standard preamble\n",
    "import numpy as np\n",
    "import matplotlib.pyplot as plt\n",
    "import matplotlib.animation as animation\n",
    "%matplotlib notebook\n",
    "\n",
    "cols = 200  # number of columns in wave matrix\n",
    "rows = 200  # number of rows in wave matrix\n",
    "cwm = np.zeros((cols, rows))  # creates a cols x rows size \"current\" wave matrix of zeros\n",
    "pwm = cwm  # creates identical \"previous\" wave matrix \n",
    "damp = 0.9999  # determines the amount of dampening (value from 0 to 1)\n",
    "\n",
    "pwm[98:102, 98:102] = 500  # intial peturbation in the wave matrix\n",
    "\n",
    "def wave(damp):\n",
    "    global cwm, pwm\n",
    "    \n",
    "    # Absorbing boundary conditions at the edges (not working)\n",
    "    cwm[0, :] = 0\n",
    "    cwm[cols-1, :] = 0\n",
    "    cwm[:, 0] = 0\n",
    "    cwm[:, rows-1] = 0\n",
    "    \n",
    "    for i in range(1, cols-1):  # for each \"non-edge\" column\n",
    "        for j in range(1, rows-1):  # for each \"non-edge\" row\n",
    "            # replace each adjacent i,j value in \"current\" with the corresponding values in \"previous\" \n",
    "            cwm[i,j] = (pwm[i-1,j] + pwm[i+1,j] + pwm[i,j+1] + pwm[i,j-1])/2 - cwm[i,j]    \n",
    "    cwm = cwm * damp  # dampen each iteration of \"current\" by a factor\n",
    "    return cwm  # return new current value to imshow\n",
    "\n",
    "# Plots the figure\n",
    "fig, ax = plt.subplots()\n",
    "ax.axis([0, 200, 0, 200])  # defines the size of the plane\n",
    "ax.set_aspect('equal')\n",
    "im = ax.imshow(wave(damp), cmap='gray', vmin = 0)  # displays imshow of \"current\" matrix values from \"im\" tuple\n",
    "\n",
    "# Function to update the variables as time (t) increases\n",
    "def updatefig(t):\n",
    "    global pwm, cwm\n",
    "    im.set_array(wave(damp))  # sets imshow array via wave function\n",
    "    pwm, cwm = cwm, pwm  # swaps \"previous\" and \"current\" for next iteration\n",
    "    return im  # returns the set \"im\" array as a tuple\n",
    "\n",
    "# Animates the updating figure\n",
    "ani = animation.FuncAnimation(fig, updatefig, frames=500, interval=25, blit=True)\n",
    "\n",
    "# This pre-renders a video in javascript for smoother playback (length of video depends on above \"frames\" value) \n",
    "#from IPython.display import HTML\n",
    "#HTML(ani.to_jshtml())"
   ]
  }
 ],
 "metadata": {
  "kernelspec": {
   "display_name": "Python 3",
   "language": "python",
   "name": "python3"
  },
  "language_info": {
   "codemirror_mode": {
    "name": "ipython",
    "version": 3
   },
   "file_extension": ".py",
   "mimetype": "text/x-python",
   "name": "python",
   "nbconvert_exporter": "python",
   "pygments_lexer": "ipython3",
   "version": "3.6.7"
  }
 },
 "nbformat": 4,
 "nbformat_minor": 2
}
